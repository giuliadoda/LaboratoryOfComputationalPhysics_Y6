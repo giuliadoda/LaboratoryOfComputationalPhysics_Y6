{
 "cells": [
  {
   "cell_type": "markdown",
   "metadata": {},
   "source": [
    "1\\. Write a function that converts number representation, bin<->dec<->hex. (Clearly using the corresponding python built-in functions is not fair..)"
   ]
  },
  {
   "cell_type": "code",
   "execution_count": 1,
   "metadata": {},
   "outputs": [],
   "source": [
    "import numpy as np"
   ]
  },
  {
   "cell_type": "code",
   "execution_count": 52,
   "metadata": {},
   "outputs": [],
   "source": [
    "# bin - dec (no sign)\n",
    "\n",
    "def bin_dec(x):         # input must be a string     \n",
    "    l = len(x)\n",
    "    b = [int(x[j])*2**(l-j-1) for j in range(0,l)]\n",
    "    b = np.sum(b)\n",
    "    return(b)"
   ]
  },
  {
   "cell_type": "code",
   "execution_count": 53,
   "metadata": {},
   "outputs": [
    {
     "data": {
      "text/plain": [
       "14"
      ]
     },
     "execution_count": 53,
     "metadata": {},
     "output_type": "execute_result"
    }
   ],
   "source": [
    "bin_dec(\"01110\")"
   ]
  },
  {
   "cell_type": "code",
   "execution_count": 54,
   "metadata": {},
   "outputs": [],
   "source": [
    "# dec - bin (no sign)\n",
    "\n",
    "def dec_bin(x):\n",
    "    s = \"\"\n",
    "    while x != 0:\n",
    "        s = s + str(x%2)\n",
    "        x = int(x/2)\n",
    "    return(s[::-1])"
   ]
  },
  {
   "cell_type": "code",
   "execution_count": 55,
   "metadata": {},
   "outputs": [
    {
     "data": {
      "text/plain": [
       "'1000'"
      ]
     },
     "execution_count": 55,
     "metadata": {},
     "output_type": "execute_result"
    }
   ],
   "source": [
    "dec_bin(8)"
   ]
  },
  {
   "cell_type": "code",
   "execution_count": 56,
   "metadata": {},
   "outputs": [],
   "source": [
    "# dec - hex (no sign)\n",
    "\n",
    "def dec_hex(x):\n",
    "    l = \"0123456789ABCDEF\"\n",
    "    s = \"\"\n",
    "    if x <= 15:\n",
    "        return(l[x])\n",
    "    else:\n",
    "        while x != 0:\n",
    "            s = s + l[x%16]\n",
    "            x = int(x/16)\n",
    "        return(s[::-1])"
   ]
  },
  {
   "cell_type": "code",
   "execution_count": 57,
   "metadata": {},
   "outputs": [
    {
     "data": {
      "text/plain": [
       "'A3C'"
      ]
     },
     "execution_count": 57,
     "metadata": {},
     "output_type": "execute_result"
    }
   ],
   "source": [
    "dec_hex(2620)"
   ]
  },
  {
   "cell_type": "code",
   "execution_count": 23,
   "metadata": {},
   "outputs": [],
   "source": [
    "# hex - dec (no sign)\n",
    "\n",
    "def hex_dec(x):     # input must be a string\n",
    "    l = len(x)\n",
    "    x = x[::-1]\n",
    "    h = 0\n",
    "    for i in range(l):\n",
    "        if x[i] == \"A\":\n",
    "            h = h + 10*16**i\n",
    "        elif x[i] == \"B\":\n",
    "            h = h + 11*16**i\n",
    "        elif x[i] == \"C\":\n",
    "            h = h + 12*16**i\n",
    "        elif x[i] == \"D\":\n",
    "            h = h + 13*16**i\n",
    "        elif x[i] == \"E\":\n",
    "            h = h + 14*16**i\n",
    "        elif x[i] == \"F\":\n",
    "            h = h + 15*16**i\n",
    "        else:\n",
    "            h = h + int(x[i])*16**i\n",
    "    return(h)"
   ]
  },
  {
   "cell_type": "code",
   "execution_count": 26,
   "metadata": {},
   "outputs": [
    {
     "data": {
      "text/plain": [
       "650"
      ]
     },
     "execution_count": 26,
     "metadata": {},
     "output_type": "execute_result"
    }
   ],
   "source": [
    "hex_dec(\"28A\")"
   ]
  },
  {
   "cell_type": "markdown",
   "metadata": {},
   "source": [
    "2\\. Write a function that converts a 32 bit word into a single precision floating point (i.e. interprets the various bits as sign, mantissa and exponent)"
   ]
  },
  {
   "cell_type": "code",
   "execution_count": 58,
   "metadata": {},
   "outputs": [],
   "source": [
    "def word_float(x):  # input must be a string\n",
    "    if len(x) != 32:\n",
    "        return(\"word length is not 32 bit\")\n",
    "    else:\n",
    "        sign = 1 if int(x[0]) == 1 else -1\n",
    "        exponent = bin_dec(x[1:9])\n",
    "        mantissa = x[9:]\n",
    "        d = 0\n",
    "        for i in range(len(mantissa)):\n",
    "            d = d + int(mantissa[i])*2**(-(i+1))\n",
    "        float = sign * (1+d) * 2**(int(exponent)-127)\n",
    "        return(float)"
   ]
  },
  {
   "cell_type": "code",
   "execution_count": 59,
   "metadata": {},
   "outputs": [
    {
     "data": {
      "text/plain": [
       "1.25"
      ]
     },
     "execution_count": 59,
     "metadata": {},
     "output_type": "execute_result"
    }
   ],
   "source": [
    "word_float(\"10111111101000000000000000000000\")"
   ]
  },
  {
   "cell_type": "markdown",
   "metadata": {},
   "source": [
    "3\\. Write a program to determine the underflow and overflow limits (within a factor of 2) for python on your computer. \n",
    "\n",
    "**Tips**: define two variables inizialized to 1 and halve/double them enough time to exceed the under/over-flow limits  "
   ]
  },
  {
   "cell_type": "code",
   "execution_count": null,
   "metadata": {},
   "outputs": [],
   "source": []
  },
  {
   "cell_type": "markdown",
   "metadata": {},
   "source": [
    "4\\. Write a program to determine the machine precision\n",
    "\n",
    "**Tips**: define a new variable by adding a smaller and smaller value (proceeding similarly to prob. 2) to an original variable and check the point where the two are the same "
   ]
  },
  {
   "cell_type": "code",
   "execution_count": null,
   "metadata": {},
   "outputs": [],
   "source": []
  },
  {
   "cell_type": "markdown",
   "metadata": {},
   "source": [
    "5\\. Write a function that takes in input three parameters $a$, $b$ and $c$ and prints out the two solutions to the quadratic equation $ax^2+bx+c=0$ using the standard formula:\n",
    "$$\n",
    "x=\\frac{-b\\pm\\sqrt{b^2-4ac}}{2a}\n",
    "$$\n",
    "\n",
    "(a) use the program to compute the solution for $a=0.001$, $b=1000$ and $c=0.001$\n",
    "\n",
    "(b) re-express the standard solution formula by multiplying top and bottom by $-b\\mp\\sqrt{b^2-4ac}$ and again find the solution for $a=0.001$, $b=1000$ and $c=0.001$. How does it compare with what previously obtained? Why?\n",
    "\n",
    "(c) write a function that compute the roots of a quadratic equation accurately in all cases"
   ]
  },
  {
   "cell_type": "code",
   "execution_count": 1,
   "metadata": {},
   "outputs": [],
   "source": [
    "def sol_func(a,b,c):\n",
    "    delta = b**2-4*a*c\n",
    "    if (delta) >= 0:\n",
    "        x1 = (-b+delta**(1/2))/(2*a)\n",
    "        x2 = (-b-delta**(1/2))/(2*a)\n",
    "        return (x1, x2)\n",
    "    else: \n",
    "        print(\"no solutions in real field\")"
   ]
  },
  {
   "cell_type": "code",
   "execution_count": 2,
   "metadata": {},
   "outputs": [
    {
     "data": {
      "text/plain": [
       "(-9.999894245993346e-07, -999999.999999)"
      ]
     },
     "execution_count": 2,
     "metadata": {},
     "output_type": "execute_result"
    }
   ],
   "source": [
    "# a)\n",
    "\n",
    "sol_func(0.001, 1000, 0.001)"
   ]
  },
  {
   "cell_type": "code",
   "execution_count": 21,
   "metadata": {},
   "outputs": [
    {
     "data": {
      "text/plain": [
       "(-9.999894245993346e-07, -999999.9999990001)"
      ]
     },
     "execution_count": 21,
     "metadata": {},
     "output_type": "execute_result"
    }
   ],
   "source": [
    "# b)\n",
    "\n",
    "def sol_func_b(a,b,c):\n",
    "    delta = b**2-4*a*c\n",
    "    if (delta) >= 0:\n",
    "        k1 = -b-delta**(1/2)\n",
    "        k2 = -b+delta**(1/2)\n",
    "        x1 = (-b+delta**(1/2))*k1/((2*a)*k1)\n",
    "        x2 = (-b-delta**(1/2))*k2/((2*a)*k2)\n",
    "        return (x1, x2)\n",
    "    else: \n",
    "        print(\"no solutions in real field\")\n",
    "\n",
    "sol_func_b(0.001, 1000, 0.001)"
   ]
  },
  {
   "cell_type": "markdown",
   "metadata": {},
   "source": [
    "6\\. Write a program that implements the function $f(x)=x(x−1)$\n",
    "\n",
    "(a) Calculate the derivative of the function at the point $x = 1$ using the derivative definition:\n",
    "\n",
    "$$\n",
    "\\frac{{\\rm d}f}{{\\rm d}x} = \\lim_{\\delta\\to0} \\frac{f(x+\\delta)-f(x)}{\\delta}\n",
    "$$\n",
    "\n",
    "with $\\delta = 10^{−2}$. Calculate the true value of the same derivative analytically and compare with the answer your program gives. The two will not agree perfectly. Why not?\n",
    "\n",
    "(b) Repeat the calculation for $\\delta = 10^{−4}, 10^{−6}, 10^{−8}, 10^{−10}, 10^{−12}$ and $10^{−14}$. How does the accuracy scales with $\\delta$?"
   ]
  },
  {
   "cell_type": "code",
   "execution_count": 24,
   "metadata": {},
   "outputs": [],
   "source": [
    "def myfunc(x):\n",
    "    return x*(x-1)\n",
    "\n",
    "def myfunc_der(x):\n",
    "    return 2*x-1\n",
    "\n",
    "def calc_der(x, delta):\n",
    "    der1 = (myfunc(x+delta)-myfunc(x))/delta\n",
    "    der2 = myfunc_der(x)\n",
    "    if der1 != der2:\n",
    "        print(\"the two derivatives are different:\")\n",
    "        print(\" - from definition:\", der1)\n",
    "        print(\" - analytically:\", der2)\n",
    "        diff = abs(der1-der2)\n",
    "        print(\"difference:\", diff)\n",
    "        return diff\n",
    "    else:\n",
    "        print(\"the two derivatives are equal\")"
   ]
  },
  {
   "cell_type": "code",
   "execution_count": 25,
   "metadata": {},
   "outputs": [
    {
     "name": "stdout",
     "output_type": "stream",
     "text": [
      "the two derivatives are different:\n",
      " - from definition: 1.010000000000001\n",
      " - analytically: 1\n",
      "difference: 0.010000000000000897\n"
     ]
    },
    {
     "data": {
      "text/plain": [
       "0.010000000000000897"
      ]
     },
     "execution_count": 25,
     "metadata": {},
     "output_type": "execute_result"
    }
   ],
   "source": [
    "# a)\n",
    "\n",
    "calc_der(1, 10**(-2))"
   ]
  },
  {
   "cell_type": "code",
   "execution_count": 26,
   "metadata": {},
   "outputs": [
    {
     "name": "stdout",
     "output_type": "stream",
     "text": [
      "delta: 0.0001\n",
      "the two derivatives are different:\n",
      " - from definition: 1.0000999999998899\n",
      " - analytically: 1\n",
      "difference: 9.999999988985486e-05\n",
      "\n",
      "\n",
      "delta: 1e-06\n",
      "the two derivatives are different:\n",
      " - from definition: 1.0000009999177333\n",
      " - analytically: 1\n",
      "difference: 9.99917733279787e-07\n",
      "\n",
      "\n",
      "delta: 1e-08\n",
      "the two derivatives are different:\n",
      " - from definition: 1.0000000039225287\n",
      " - analytically: 1\n",
      "difference: 3.922528746258536e-09\n",
      "\n",
      "\n",
      "delta: 1e-10\n",
      "the two derivatives are different:\n",
      " - from definition: 1.000000082840371\n",
      " - analytically: 1\n",
      "difference: 8.284037100736441e-08\n",
      "\n",
      "\n",
      "delta: 1e-12\n",
      "the two derivatives are different:\n",
      " - from definition: 1.0000889005833413\n",
      " - analytically: 1\n",
      "difference: 8.890058334132256e-05\n",
      "\n",
      "\n",
      "delta: 1e-14\n",
      "the two derivatives are different:\n",
      " - from definition: 0.9992007221626509\n",
      " - analytically: 1\n",
      "difference: 0.0007992778373491216\n",
      "\n",
      "\n"
     ]
    }
   ],
   "source": [
    "# b)\n",
    "\n",
    "deltas = [-4, -6, -8, -10, -12, -14]\n",
    "\n",
    "for i in deltas:\n",
    "    print(\"delta:\", 10**i)\n",
    "    calc_der(1, 10**i)\n",
    "    print('\\n')"
   ]
  },
  {
   "cell_type": "code",
   "execution_count": 30,
   "metadata": {},
   "outputs": [
    {
     "name": "stdout",
     "output_type": "stream",
     "text": [
      "the two derivatives are different:\n",
      " - from definition: 1.0000999999998899\n",
      " - analytically: 1\n",
      "difference: 9.999999988985486e-05\n",
      "the two derivatives are different:\n",
      " - from definition: 1.0000009999177333\n",
      " - analytically: 1\n",
      "difference: 9.99917733279787e-07\n",
      "the two derivatives are different:\n",
      " - from definition: 1.0000000039225287\n",
      " - analytically: 1\n",
      "difference: 3.922528746258536e-09\n",
      "the two derivatives are different:\n",
      " - from definition: 1.000000082840371\n",
      " - analytically: 1\n",
      "difference: 8.284037100736441e-08\n",
      "the two derivatives are different:\n",
      " - from definition: 1.0000889005833413\n",
      " - analytically: 1\n",
      "difference: 8.890058334132256e-05\n",
      "the two derivatives are different:\n",
      " - from definition: 0.9992007221626509\n",
      " - analytically: 1\n",
      "difference: 0.0007992778373491216\n"
     ]
    },
    {
     "data": {
      "image/png": "[encoded data removed]",
      "text/plain": [
       "<Figure size 640x480 with 1 Axes>"
      ]
     },
     "metadata": {},
     "output_type": "display_data"
    }
   ],
   "source": [
    "# accuracy as a function of delta\n",
    "\n",
    "import matplotlib.pyplot as plt\n",
    "\n",
    "diff = np.array([calc_der(1, 10**i) for i in deltas])\n",
    "\n",
    "plt.plot(deltas, diff)\n",
    "plt.yscale('log')"
   ]
  },
  {
   "cell_type": "markdown",
   "metadata": {},
   "source": [
    "7\\. Consider the integral of the semicircle of radius 1:\n",
    "$$\n",
    "I=\\int_{-1}^{1} \\sqrt{1-x^2} {\\rm d}x\n",
    "$$\n",
    "which it's known to be $I=\\frac{\\pi}{2}=1.57079632679...$.\n",
    "Alternatively we can use the Riemann definition of the integral:\n",
    "$$\n",
    "I=\\lim_{N\\to\\infty} \\sum_{k=1}^{N} h y_k \n",
    "$$\n",
    "\n",
    "with $h=2/N$ the width of each of the $N$ slices the domain is divided into and where\n",
    "$y_k$ is the value of the function at the $k-$ th slice.\n",
    "\n",
    "(a) Write a programe to compute the integral with $N=100$. How does the result compares to the true value?\n",
    "\n",
    "(b) How much can $N$ be increased if the computation needs to be run in less than a second? What is the gain in running it for 1 minute? \n"
   ]
  },
  {
   "cell_type": "code",
   "execution_count": 35,
   "metadata": {},
   "outputs": [
    {
     "name": "stdout",
     "output_type": "stream",
     "text": [
      "difference: 0.0016620712456465458\n"
     ]
    }
   ],
   "source": [
    "# a)\n",
    "\n",
    "import numpy as np\n",
    "\n",
    "true_val = np.pi / 2\n",
    "\n",
    "def f(x):\n",
    "    b = (1-x**2)\n",
    "    if b >= 0:\n",
    "        return b**(1/2)\n",
    "    else:\n",
    "        return 0\n",
    "\n",
    "def my_int(N):\n",
    "    h = 2*N**(-1)\n",
    "    a = [h*f(-1+h*k) for k in range(N)]\n",
    "    return np.sum(a)\n",
    "\n",
    "print(\"difference:\", abs(true_val - my_int(100)))"
   ]
  },
  {
   "cell_type": "code",
   "execution_count": 41,
   "metadata": {},
   "outputs": [
    {
     "name": "stdout",
     "output_type": "stream",
     "text": [
      "N = 2\n",
      "difference: 0.0016620712456465458\n",
      "37.2 µs ± 129 ns per loop (mean ± std. dev. of 7 runs, 10,000 loops each)\n",
      "\n",
      "\n",
      "N = 3\n",
      "difference: 5.258829382626118e-05\n",
      "332 µs ± 549 ns per loop (mean ± std. dev. of 7 runs, 1,000 loops each)\n",
      "\n",
      "\n",
      "N = 4\n",
      "difference: 1.6630796055849828e-06\n",
      "3.24 ms ± 20 µs per loop (mean ± std. dev. of 7 runs, 100 loops each)\n",
      "\n",
      "\n",
      "N = 5\n",
      "difference: 5.2591484722697146e-08\n",
      "32.1 ms ± 14.9 µs per loop (mean ± std. dev. of 7 runs, 10 loops each)\n",
      "\n",
      "\n",
      "N = 6\n",
      "difference: 1.6630894439373378e-09\n",
      "352 ms ± 31.9 ms per loop (mean ± std. dev. of 7 runs, 1 loop each)\n",
      "\n",
      "\n"
     ]
    }
   ],
   "source": [
    "# b)\n",
    "\n",
    "ns = [i for i in range(2,7)]\n",
    "\n",
    "for n in ns:\n",
    "    print(\"N =\", n)\n",
    "    print(\"difference:\", abs(true_val - my_int(10**n)))\n",
    "    %timeit my_int(10**n)\n",
    "    print('\\n')\n",
    "\n"
   ]
  },
  {
   "cell_type": "code",
   "execution_count": 43,
   "metadata": {},
   "outputs": [
    {
     "name": "stdout",
     "output_type": "stream",
     "text": [
      "difference: 1.6640022693081846e-12\n"
     ]
    }
   ],
   "source": [
    "print(\"difference:\", abs(true_val - my_int(10**8)))"
   ]
  }
 ],
 "metadata": {
  "kernelspec": {
   "display_name": "Python 3 (ipykernel)",
   "language": "python",
   "name": "python3"
  },
  "language_info": {
   "codemirror_mode": {
    "name": "ipython",
    "version": 3
   },
   "file_extension": ".py",
   "mimetype": "text/x-python",
   "name": "python",
   "nbconvert_exporter": "python",
   "pygments_lexer": "ipython3",
   "version": "3.11.5"
  }
 },
 "nbformat": 4,
 "nbformat_minor": 2
}
