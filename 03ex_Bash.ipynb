{
 "cells": [
  {
   "cell_type": "markdown",
   "id": "b5746bd0",
   "metadata": {},
   "source": [
    "The following exercises are meant to be solved by gathering the bash commands incrimentally in two scripts, one for ex 1.* the other for ex 2.* "
   ]
  },
  {
   "cell_type": "markdown",
   "id": "4e60de78",
   "metadata": {},
   "source": [
    "### Ex 1"
   ]
  },
  {
   "cell_type": "markdown",
   "id": "6759df36",
   "metadata": {},
   "source": [
    "1\\.a Make a new directory called `students` in your home. Download a csv file with the list of students of this lab from [here](https://www.dropbox.com/s/867rtx3az6e9gm8/LCP_22-23_students.csv) (use the `wget` command) and copy that to `students`. First check whether the file is already there"
   ]
  },
  {
   "cell_type": "markdown",
   "id": "798c0c9d",
   "metadata": {},
   "source": [
    "1\\.b Make two new files, one containing the students belonging to PoD, the other to Physics."
   ]
  },
  {
   "cell_type": "markdown",
   "id": "8a43d622",
   "metadata": {},
   "source": [
    "1\\.c For each letter of the alphabet, count the number of students whose surname starts with that letter. "
   ]
  },
  {
   "cell_type": "markdown",
   "id": "4ba6bc90",
   "metadata": {},
   "source": [
    "1\\.d Find out which is the letter with most counts."
   ]
  },
  {
   "cell_type": "markdown",
   "id": "086a043c",
   "metadata": {},
   "source": [
    "1\\.e Assume an obvious numbering of the students in the file (first line is 1, second line is 2, etc.), group students \"modulo 18\", i.e. 1,19,37,.. 2,20,38,.. etc. and put each group in a separate file  "
   ]
  },
  {
   "cell_type": "markdown",
   "id": "97cb585e",
   "metadata": {},
   "source": [
    "``` bash\n",
    "#!/bin/bash\n",
    "\n",
    "cd $HOME\n",
    "\n",
    "# making new directory\n",
    "mkdir students\n",
    "\n",
    "# download file if not already present\n",
    "if [ ! -f \"./LCP_22-23_students.csv\" ]\n",
    "then\n",
    "    echo \"the file ./LCP_22-23_students.csv does not exist, downloading it\"\n",
    "    wget https://www.dropbox.com/s/867rtx3az6e9gm8/LCP_22-23_students.csv\n",
    "else \n",
    "    echo \"already downloaded file\"\n",
    "    file=./LCP_22-23_students.csv\n",
    "fi\n",
    "\n",
    "# copy file to students directory\n",
    "cp LCP_22-23_students.csv ./students/LCP_22-23_students_copy.csv\n",
    "\n",
    "# create two new files in students directory\n",
    "cd students\n",
    "\n",
    "touch pod_students.csv\n",
    "\n",
    "touch phys_students.csv\n",
    "\n",
    "# putting PoD students in corresponding file\n",
    "grep \"PoD\" LCP_22-23_students_copy.csv > pod_students.csv\n",
    "\n",
    "# putting Physics student in corresponding file\n",
    "grep \"Physics\" LCP_22-23_students_copy.csv > phys_students.csv\n",
    "\n",
    "# for each letter of the alphabet count the number of students\n",
    "\n",
    "# counters\n",
    "max_count=0\n",
    "max_letter=\"\"\n",
    "\n",
    "echo \"letter\tcounts\"\n",
    "for x in {A..Z}\n",
    "do\n",
    "    count=$(grep -c \"^$x\" LCP_22-23_students_copy.csv)\n",
    "    echo \"$x\t$count\"\n",
    "    # Check if the current count is greater than (-gt) the maximum count\n",
    "    if [ \"$count\" -gt \"$max_count\" ]; then\n",
    "        max_count=$count\n",
    "        max_letter=$x\n",
    "    fi\n",
    "done\n",
    "\n",
    "# find out which letter has most counts\n",
    "echo \"Letter with most counts: $max_letter ($max_count counts).\"\n",
    "\n",
    "# grouping students modulo 18 and putting each group in a separate file\n",
    "\n",
    "# directory to store the output files\n",
    "output_dir=\"grouped_files\"\n",
    "mkdir -p \"$output_dir\"\n",
    "\n",
    "for (( group_start=1; group_start<=18; group_start++ )); do\n",
    "    output_file=\"${output_dir}/group_${group_start}.csv\"\n",
    "    \n",
    "    # extract lines based on the modulo condition\n",
    "    awk -v start=\"$group_start\" -v interval=18 'NR%interval==start-1' \"LCP_22-23_students_copy.csv\" > \"$output_file\"\n",
    "    \n",
    "    echo \"Group $group_start: $output_file\"\n",
    "done"
   ]
  },
  {
   "cell_type": "markdown",
   "id": "1d730d21",
   "metadata": {},
   "source": [
    "### Ex 2"
   ]
  },
  {
   "cell_type": "markdown",
   "id": "4b87ecb7",
   "metadata": {},
   "source": [
    "2.a Make a copy of the file `data.csv` removing the metadata and the commas between numbers; call it `data.txt`"
   ]
  },
  {
   "cell_type": "markdown",
   "id": "344048c8",
   "metadata": {},
   "source": [
    "2\\.b How many even numbers are there?"
   ]
  },
  {
   "cell_type": "markdown",
   "id": "2a27138d",
   "metadata": {},
   "source": [
    "2\\.c Distinguish the entries on the basis of `sqrt(X^2 + Y^2 + Z^2)` is greater or smaller than `100*sqrt(3)/2`. Count the entries of each of the two groups "
   ]
  },
  {
   "cell_type": "markdown",
   "id": "e937ef4e",
   "metadata": {},
   "source": [
    "2\\.d Make `n` copies of data.txt (with `n` an input parameter of the script), where the i-th copy has all the numbers divided by i (with `1<=i<=n`)."
   ]
  },
  {
   "cell_type": "markdown",
   "id": "0649c85f",
   "metadata": {},
   "source": [
    "```bash\n",
    "\n",
    "#!/bin/bash\n",
    "\n",
    "# make a copy of the file data.csv (checking whether it exists or not)\n",
    "# removing the metadata and the commas between numbers --> data.txt\n",
    "if [ ! -f './data.csv' ]\n",
    "then\n",
    "\techo 'the file does not exist'\n",
    "\texit 1\n",
    "else\n",
    "\techo 'file exists'\n",
    "\tfile='./data.csv'\n",
    "fi\n",
    "\n",
    "# copy file\n",
    "cp data.csv ./data.txt\n",
    "\n",
    "# delete data payload and commas from data.txt\n",
    "sed -i -e '/^#/d; s/,//g' data.txt \n",
    "\n",
    "# counting even numbers\n",
    "even_count=0\n",
    "awk '{num = int($1); if (num % 2 == 0) {print num, \"is even\"; even_count++} else {print num, \"is odd\"}} END {print \"Total number of even numbers:\", even_count}' ./data.txt"
   ]
  }
 ],
 "metadata": {
  "kernelspec": {
   "display_name": "Python 3 (ipykernel)",
   "language": "python",
   "name": "python3"
  },
  "language_info": {
   "codemirror_mode": {
    "name": "ipython",
    "version": 3
   },
   "file_extension": ".py",
   "mimetype": "text/x-python",
   "name": "python",
   "nbconvert_exporter": "python",
   "pygments_lexer": "ipython3",
   "version": "3.11.5"
  }
 },
 "nbformat": 4,
 "nbformat_minor": 5
}
